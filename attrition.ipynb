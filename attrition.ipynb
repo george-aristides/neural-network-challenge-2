{
 "cells": [
  {
   "cell_type": "markdown",
   "metadata": {
    "id": "alIIEHibGc3M"
   },
   "source": [
    "## Part 1: Preprocessing"
   ]
  },
  {
   "cell_type": "code",
   "execution_count": 2,
   "metadata": {
    "colab": {
     "base_uri": "https://localhost:8080/",
     "height": 325
    },
    "id": "6eDUJ4NtGc3P",
    "outputId": "2480098c-135c-4cbf-9552-018494ee8ff5"
   },
   "outputs": [],
   "source": [
    "# Import our dependencies\n",
    "from sklearn.model_selection import train_test_split\n",
    "from sklearn.preprocessing import StandardScaler\n",
    "from sklearn.preprocessing import OneHotEncoder\n",
    "import pandas as pd\n",
    "import numpy as np\n",
    "# from tensorflow.keras.models import Model\n",
    "# from tensorflow.keras import layers\n",
    "\n"
   ]
  },
  {
   "cell_type": "code",
   "execution_count": 3,
   "metadata": {},
   "outputs": [
    {
     "data": {
      "text/html": [
       "<div>\n",
       "<style scoped>\n",
       "    .dataframe tbody tr th:only-of-type {\n",
       "        vertical-align: middle;\n",
       "    }\n",
       "\n",
       "    .dataframe tbody tr th {\n",
       "        vertical-align: top;\n",
       "    }\n",
       "\n",
       "    .dataframe thead th {\n",
       "        text-align: right;\n",
       "    }\n",
       "</style>\n",
       "<table border=\"1\" class=\"dataframe\">\n",
       "  <thead>\n",
       "    <tr style=\"text-align: right;\">\n",
       "      <th></th>\n",
       "      <th>Age</th>\n",
       "      <th>Attrition</th>\n",
       "      <th>BusinessTravel</th>\n",
       "      <th>Department</th>\n",
       "      <th>DistanceFromHome</th>\n",
       "      <th>Education</th>\n",
       "      <th>EducationField</th>\n",
       "      <th>EnvironmentSatisfaction</th>\n",
       "      <th>HourlyRate</th>\n",
       "      <th>JobInvolvement</th>\n",
       "      <th>...</th>\n",
       "      <th>PerformanceRating</th>\n",
       "      <th>RelationshipSatisfaction</th>\n",
       "      <th>StockOptionLevel</th>\n",
       "      <th>TotalWorkingYears</th>\n",
       "      <th>TrainingTimesLastYear</th>\n",
       "      <th>WorkLifeBalance</th>\n",
       "      <th>YearsAtCompany</th>\n",
       "      <th>YearsInCurrentRole</th>\n",
       "      <th>YearsSinceLastPromotion</th>\n",
       "      <th>YearsWithCurrManager</th>\n",
       "    </tr>\n",
       "  </thead>\n",
       "  <tbody>\n",
       "    <tr>\n",
       "      <th>0</th>\n",
       "      <td>41</td>\n",
       "      <td>Yes</td>\n",
       "      <td>Travel_Rarely</td>\n",
       "      <td>Sales</td>\n",
       "      <td>1</td>\n",
       "      <td>2</td>\n",
       "      <td>Life Sciences</td>\n",
       "      <td>2</td>\n",
       "      <td>94</td>\n",
       "      <td>3</td>\n",
       "      <td>...</td>\n",
       "      <td>3</td>\n",
       "      <td>1</td>\n",
       "      <td>0</td>\n",
       "      <td>8</td>\n",
       "      <td>0</td>\n",
       "      <td>1</td>\n",
       "      <td>6</td>\n",
       "      <td>4</td>\n",
       "      <td>0</td>\n",
       "      <td>5</td>\n",
       "    </tr>\n",
       "    <tr>\n",
       "      <th>1</th>\n",
       "      <td>49</td>\n",
       "      <td>No</td>\n",
       "      <td>Travel_Frequently</td>\n",
       "      <td>Research &amp; Development</td>\n",
       "      <td>8</td>\n",
       "      <td>1</td>\n",
       "      <td>Life Sciences</td>\n",
       "      <td>3</td>\n",
       "      <td>61</td>\n",
       "      <td>2</td>\n",
       "      <td>...</td>\n",
       "      <td>4</td>\n",
       "      <td>4</td>\n",
       "      <td>1</td>\n",
       "      <td>10</td>\n",
       "      <td>3</td>\n",
       "      <td>3</td>\n",
       "      <td>10</td>\n",
       "      <td>7</td>\n",
       "      <td>1</td>\n",
       "      <td>7</td>\n",
       "    </tr>\n",
       "    <tr>\n",
       "      <th>2</th>\n",
       "      <td>37</td>\n",
       "      <td>Yes</td>\n",
       "      <td>Travel_Rarely</td>\n",
       "      <td>Research &amp; Development</td>\n",
       "      <td>2</td>\n",
       "      <td>2</td>\n",
       "      <td>Other</td>\n",
       "      <td>4</td>\n",
       "      <td>92</td>\n",
       "      <td>2</td>\n",
       "      <td>...</td>\n",
       "      <td>3</td>\n",
       "      <td>2</td>\n",
       "      <td>0</td>\n",
       "      <td>7</td>\n",
       "      <td>3</td>\n",
       "      <td>3</td>\n",
       "      <td>0</td>\n",
       "      <td>0</td>\n",
       "      <td>0</td>\n",
       "      <td>0</td>\n",
       "    </tr>\n",
       "    <tr>\n",
       "      <th>3</th>\n",
       "      <td>33</td>\n",
       "      <td>No</td>\n",
       "      <td>Travel_Frequently</td>\n",
       "      <td>Research &amp; Development</td>\n",
       "      <td>3</td>\n",
       "      <td>4</td>\n",
       "      <td>Life Sciences</td>\n",
       "      <td>4</td>\n",
       "      <td>56</td>\n",
       "      <td>3</td>\n",
       "      <td>...</td>\n",
       "      <td>3</td>\n",
       "      <td>3</td>\n",
       "      <td>0</td>\n",
       "      <td>8</td>\n",
       "      <td>3</td>\n",
       "      <td>3</td>\n",
       "      <td>8</td>\n",
       "      <td>7</td>\n",
       "      <td>3</td>\n",
       "      <td>0</td>\n",
       "    </tr>\n",
       "    <tr>\n",
       "      <th>4</th>\n",
       "      <td>27</td>\n",
       "      <td>No</td>\n",
       "      <td>Travel_Rarely</td>\n",
       "      <td>Research &amp; Development</td>\n",
       "      <td>2</td>\n",
       "      <td>1</td>\n",
       "      <td>Medical</td>\n",
       "      <td>1</td>\n",
       "      <td>40</td>\n",
       "      <td>3</td>\n",
       "      <td>...</td>\n",
       "      <td>3</td>\n",
       "      <td>4</td>\n",
       "      <td>1</td>\n",
       "      <td>6</td>\n",
       "      <td>3</td>\n",
       "      <td>3</td>\n",
       "      <td>2</td>\n",
       "      <td>2</td>\n",
       "      <td>2</td>\n",
       "      <td>2</td>\n",
       "    </tr>\n",
       "  </tbody>\n",
       "</table>\n",
       "<p>5 rows × 27 columns</p>\n",
       "</div>"
      ],
      "text/plain": [
       "   Age Attrition     BusinessTravel              Department  DistanceFromHome  \\\n",
       "0   41       Yes      Travel_Rarely                   Sales                 1   \n",
       "1   49        No  Travel_Frequently  Research & Development                 8   \n",
       "2   37       Yes      Travel_Rarely  Research & Development                 2   \n",
       "3   33        No  Travel_Frequently  Research & Development                 3   \n",
       "4   27        No      Travel_Rarely  Research & Development                 2   \n",
       "\n",
       "   Education EducationField  EnvironmentSatisfaction  HourlyRate  \\\n",
       "0          2  Life Sciences                        2          94   \n",
       "1          1  Life Sciences                        3          61   \n",
       "2          2          Other                        4          92   \n",
       "3          4  Life Sciences                        4          56   \n",
       "4          1        Medical                        1          40   \n",
       "\n",
       "   JobInvolvement  ...  PerformanceRating RelationshipSatisfaction  \\\n",
       "0               3  ...                  3                        1   \n",
       "1               2  ...                  4                        4   \n",
       "2               2  ...                  3                        2   \n",
       "3               3  ...                  3                        3   \n",
       "4               3  ...                  3                        4   \n",
       "\n",
       "   StockOptionLevel TotalWorkingYears  TrainingTimesLastYear WorkLifeBalance  \\\n",
       "0                 0                 8                      0               1   \n",
       "1                 1                10                      3               3   \n",
       "2                 0                 7                      3               3   \n",
       "3                 0                 8                      3               3   \n",
       "4                 1                 6                      3               3   \n",
       "\n",
       "   YearsAtCompany  YearsInCurrentRole  YearsSinceLastPromotion  \\\n",
       "0               6                   4                        0   \n",
       "1              10                   7                        1   \n",
       "2               0                   0                        0   \n",
       "3               8                   7                        3   \n",
       "4               2                   2                        2   \n",
       "\n",
       "   YearsWithCurrManager  \n",
       "0                     5  \n",
       "1                     7  \n",
       "2                     0  \n",
       "3                     0  \n",
       "4                     2  \n",
       "\n",
       "[5 rows x 27 columns]"
      ]
     },
     "execution_count": 3,
     "metadata": {},
     "output_type": "execute_result"
    }
   ],
   "source": [
    "#  Import and read the attrition data\n",
    "df = pd.read_csv('https://static.bc-edx.com/ai/ail-v-1-0/m19/lms/datasets/attrition.csv')\n",
    "df.head()"
   ]
  },
  {
   "cell_type": "code",
   "execution_count": 4,
   "metadata": {
    "colab": {
     "base_uri": "https://localhost:8080/"
    },
    "id": "g22aQSY4Gc3Q",
    "outputId": "1f5c13c1-b981-4e40-a7ed-dd3fe6f1b81e"
   },
   "outputs": [
    {
     "data": {
      "text/plain": [
       "Age                         43\n",
       "Attrition                    2\n",
       "BusinessTravel               3\n",
       "Department                   3\n",
       "DistanceFromHome            29\n",
       "Education                    5\n",
       "EducationField               6\n",
       "EnvironmentSatisfaction      4\n",
       "HourlyRate                  71\n",
       "JobInvolvement               4\n",
       "JobLevel                     5\n",
       "JobRole                      9\n",
       "JobSatisfaction              4\n",
       "MaritalStatus                3\n",
       "NumCompaniesWorked          10\n",
       "OverTime                     2\n",
       "PercentSalaryHike           15\n",
       "PerformanceRating            2\n",
       "RelationshipSatisfaction     4\n",
       "StockOptionLevel             4\n",
       "TotalWorkingYears           40\n",
       "TrainingTimesLastYear        7\n",
       "WorkLifeBalance              4\n",
       "YearsAtCompany              37\n",
       "YearsInCurrentRole          19\n",
       "YearsSinceLastPromotion     16\n",
       "YearsWithCurrManager        18\n",
       "dtype: int64"
      ]
     },
     "execution_count": 4,
     "metadata": {},
     "output_type": "execute_result"
    }
   ],
   "source": [
    "# Determine the number of unique values in each column.\n",
    "df.nunique()"
   ]
  },
  {
   "cell_type": "code",
   "execution_count": 5,
   "metadata": {},
   "outputs": [
    {
     "data": {
      "text/plain": [
       "Age                          int64\n",
       "Attrition                   object\n",
       "BusinessTravel              object\n",
       "Department                  object\n",
       "DistanceFromHome             int64\n",
       "Education                    int64\n",
       "EducationField              object\n",
       "EnvironmentSatisfaction      int64\n",
       "HourlyRate                   int64\n",
       "JobInvolvement               int64\n",
       "JobLevel                     int64\n",
       "JobRole                     object\n",
       "JobSatisfaction              int64\n",
       "MaritalStatus               object\n",
       "NumCompaniesWorked           int64\n",
       "OverTime                    object\n",
       "PercentSalaryHike            int64\n",
       "PerformanceRating            int64\n",
       "RelationshipSatisfaction     int64\n",
       "StockOptionLevel             int64\n",
       "TotalWorkingYears            int64\n",
       "TrainingTimesLastYear        int64\n",
       "WorkLifeBalance              int64\n",
       "YearsAtCompany               int64\n",
       "YearsInCurrentRole           int64\n",
       "YearsSinceLastPromotion      int64\n",
       "YearsWithCurrManager         int64\n",
       "dtype: object"
      ]
     },
     "execution_count": 5,
     "metadata": {},
     "output_type": "execute_result"
    }
   ],
   "source": [
    "df.dtypes"
   ]
  },
  {
   "cell_type": "code",
   "execution_count": 6,
   "metadata": {
    "id": "50vMgBEnJbfM"
   },
   "outputs": [
    {
     "data": {
      "text/html": [
       "<div>\n",
       "<style scoped>\n",
       "    .dataframe tbody tr th:only-of-type {\n",
       "        vertical-align: middle;\n",
       "    }\n",
       "\n",
       "    .dataframe tbody tr th {\n",
       "        vertical-align: top;\n",
       "    }\n",
       "\n",
       "    .dataframe thead th {\n",
       "        text-align: right;\n",
       "    }\n",
       "</style>\n",
       "<table border=\"1\" class=\"dataframe\">\n",
       "  <thead>\n",
       "    <tr style=\"text-align: right;\">\n",
       "      <th></th>\n",
       "      <th>Attrition</th>\n",
       "      <th>Department</th>\n",
       "    </tr>\n",
       "  </thead>\n",
       "  <tbody>\n",
       "    <tr>\n",
       "      <th>0</th>\n",
       "      <td>Yes</td>\n",
       "      <td>Sales</td>\n",
       "    </tr>\n",
       "    <tr>\n",
       "      <th>1</th>\n",
       "      <td>No</td>\n",
       "      <td>Research &amp; Development</td>\n",
       "    </tr>\n",
       "    <tr>\n",
       "      <th>2</th>\n",
       "      <td>Yes</td>\n",
       "      <td>Research &amp; Development</td>\n",
       "    </tr>\n",
       "    <tr>\n",
       "      <th>3</th>\n",
       "      <td>No</td>\n",
       "      <td>Research &amp; Development</td>\n",
       "    </tr>\n",
       "    <tr>\n",
       "      <th>4</th>\n",
       "      <td>No</td>\n",
       "      <td>Research &amp; Development</td>\n",
       "    </tr>\n",
       "  </tbody>\n",
       "</table>\n",
       "</div>"
      ],
      "text/plain": [
       "  Attrition              Department\n",
       "0       Yes                   Sales\n",
       "1        No  Research & Development\n",
       "2       Yes  Research & Development\n",
       "3        No  Research & Development\n",
       "4        No  Research & Development"
      ]
     },
     "execution_count": 6,
     "metadata": {},
     "output_type": "execute_result"
    }
   ],
   "source": [
    "# Create y_df with the Attrition and Department columns\n",
    "y_df = df[['Attrition', 'Department']]\n",
    "y_df.head()"
   ]
  },
  {
   "cell_type": "code",
   "execution_count": 7,
   "metadata": {
    "colab": {
     "base_uri": "https://localhost:8080/"
    },
    "id": "Virka0zLGc3R",
    "outputId": "dd5aee3a-9458-4ba6-e857-1b234de40915"
   },
   "outputs": [
    {
     "data": {
      "text/plain": [
       "Education                  int64\n",
       "Age                        int64\n",
       "DistanceFromHome           int64\n",
       "NumCompaniesWorked         int64\n",
       "PerformanceRating          int64\n",
       "StockOptionLevel           int64\n",
       "WorkLifeBalance            int64\n",
       "YearsAtCompany             int64\n",
       "YearsSinceLastPromotion    int64\n",
       "NumCompaniesWorked         int64\n",
       "dtype: object"
      ]
     },
     "execution_count": 7,
     "metadata": {},
     "output_type": "execute_result"
    }
   ],
   "source": [
    "# Create a list of at least 10 column names to use as X data\n",
    "features_list = ['Education', 'Age', 'DistanceFromHome', 'NumCompaniesWorked', 'PerformanceRating', 'StockOptionLevel', 'WorkLifeBalance', 'YearsAtCompany', 'YearsSinceLastPromotion', 'NumCompaniesWorked']\n",
    "\n",
    "\n",
    "# Create X_df using your selected columns\n",
    "X_df = df[features_list]\n",
    "\n",
    "# Show the data types for X_df\n",
    "X_df.dtypes"
   ]
  },
  {
   "cell_type": "code",
   "execution_count": 8,
   "metadata": {
    "id": "KaJfdOGUMHMR"
   },
   "outputs": [],
   "source": [
    "# Split the data into training and testing sets\n",
    "from sklearn.model_selection import train_test_split\n",
    "\n",
    "X_train, X_test, y_train, y_test = train_test_split(X_df, y_df, random_state=1)"
   ]
  },
  {
   "cell_type": "code",
   "execution_count": 9,
   "metadata": {
    "colab": {
     "base_uri": "https://localhost:8080/"
    },
    "id": "NYubUJqiLCSp",
    "outputId": "53f31721-571c-4c94-d13e-25a715749593"
   },
   "outputs": [],
   "source": [
    "# Convert your X data to numeric data types however you see fit\n",
    "# Add new code cells as necessary\n",
    "\n",
    "# already chose all numerics"
   ]
  },
  {
   "cell_type": "code",
   "execution_count": 10,
   "metadata": {},
   "outputs": [],
   "source": [
    "# X_train['OverTime'] = X_train['OverTime'].map({'yes': 1, 'no': 0})\n",
    "# X_train['OverTime'].dtypes"
   ]
  },
  {
   "cell_type": "code",
   "execution_count": 11,
   "metadata": {
    "id": "EWA-aIA5Gc3T"
   },
   "outputs": [],
   "source": [
    "# Create a StandardScaler\n",
    "X_scaler = StandardScaler()\n",
    "\n",
    "# Fit the StandardScaler to the training data\n",
    "X_scaler.fit(X_train)\n",
    "\n",
    "# Scale the training and testing data\n",
    "X_train_scaled = X_scaler.transform(X_train)\n",
    "X_test_scaled = X_scaler.transform(X_test)\n",
    "\n",
    "X_train_scaled_df = pd.DataFrame(X_train_scaled, columns = X_train.columns)\n",
    "X_test_scaled_df = pd.DataFrame(X_test_scaled, columns = X_test.columns)"
   ]
  },
  {
   "cell_type": "code",
   "execution_count": 12,
   "metadata": {},
   "outputs": [],
   "source": [
    "def EncodeTrain(feature_name: str):\n",
    "    # Create a OneHotEncoder for the column\n",
    "    one_hot_encoder = OneHotEncoder(sparse_output=False)\n",
    "    \n",
    "    # Fit the encoder to the training data\n",
    "    encoded = one_hot_encoder.fit(y_train[[feature_name]])\n",
    "    \n",
    "    # Create two new variables by applying the encoder\n",
    "    # to the training and testing data\n",
    "    encoded_train = one_hot_encoder.transform(y_train[[feature_name]])\n",
    "    \n",
    "    columns = one_hot_encoder.get_feature_names_out([feature_name])\n",
    "    \n",
    "    encoded_train_df = pd.DataFrame(encoded_train, columns=columns)\n",
    "\n",
    "    globals()[f\"{feature_name}_encoded_train_df\"] = encoded_train_df\n",
    "    \n",
    "\n",
    "def EncodeTest(feature_name: str):\n",
    "    # Create a OneHotEncoder for the column\n",
    "    one_hot_encoder = OneHotEncoder(sparse_output=False)\n",
    "    \n",
    "    # Fit the encoder to the training data\n",
    "    encoded = one_hot_encoder.fit(y_train[[feature_name]])\n",
    "    \n",
    "    # Create two new variables by applying the encoder\n",
    "    # to the training and testing data\n",
    "    encoded_test = one_hot_encoder.transform(y_test[[feature_name]])\n",
    "    \n",
    "    columns = one_hot_encoder.get_feature_names_out([feature_name])\n",
    "    \n",
    "    encoded_test_df = pd.DataFrame(encoded_test, columns=columns)\n",
    "\n",
    "    globals()[f\"{feature_name}_encoded_test_df\"] = encoded_test_df\n"
   ]
  },
  {
   "cell_type": "code",
   "execution_count": 13,
   "metadata": {
    "colab": {
     "base_uri": "https://localhost:8080/"
    },
    "id": "-z0Mky8vQSz4",
    "outputId": "debefc85-c20b-48f5-f4d9-91eadd65d36a"
   },
   "outputs": [],
   "source": [
    "# Create a OneHotEncoder for the Department column\n",
    "\n",
    "EncodeTrain('Department')\n",
    "EncodeTest('Department')"
   ]
  },
  {
   "cell_type": "code",
   "execution_count": 14,
   "metadata": {
    "colab": {
     "base_uri": "https://localhost:8080/"
    },
    "id": "-G4DSpvFRrk4",
    "outputId": "9842e948-8a55-4b80-8fac-f96714e85589"
   },
   "outputs": [],
   "source": [
    "# Create a OneHotEncoder for the Attrition column\n",
    "\n",
    "EncodeTrain('Attrition')\n",
    "EncodeTest('Attrition')"
   ]
  },
  {
   "cell_type": "code",
   "execution_count": 15,
   "metadata": {},
   "outputs": [],
   "source": [
    "# renaming for later use in PyTorch NN\n",
    "Y_train_department = Department_encoded_train_df\n",
    "Y_train_attrition = Attrition_encoded_train_df\n",
    "Y_test_department = Department_encoded_test_df\n",
    "Y_test_attrition = Attrition_encoded_test_df"
   ]
  },
  {
   "cell_type": "markdown",
   "metadata": {
    "id": "ykNmu_WWGc3T"
   },
   "source": [
    "## Create, Compile, and Train the Model"
   ]
  },
  {
   "cell_type": "code",
   "execution_count": 17,
   "metadata": {},
   "outputs": [
    {
     "name": "stdout",
     "output_type": "stream",
     "text": [
      "Requirement already satisfied: torch in /opt/anaconda3/lib/python3.11/site-packages (2.5.1)\n",
      "Requirement already satisfied: filelock in /opt/anaconda3/lib/python3.11/site-packages (from torch) (3.13.1)\n",
      "Requirement already satisfied: typing-extensions>=4.8.0 in /opt/anaconda3/lib/python3.11/site-packages (from torch) (4.9.0)\n",
      "Requirement already satisfied: networkx in /opt/anaconda3/lib/python3.11/site-packages (from torch) (3.1)\n",
      "Requirement already satisfied: jinja2 in /opt/anaconda3/lib/python3.11/site-packages (from torch) (3.1.3)\n",
      "Requirement already satisfied: fsspec in /opt/anaconda3/lib/python3.11/site-packages (from torch) (2023.10.0)\n",
      "Requirement already satisfied: sympy==1.13.1 in /opt/anaconda3/lib/python3.11/site-packages (from torch) (1.13.1)\n",
      "Requirement already satisfied: mpmath<1.4,>=1.1.0 in /opt/anaconda3/lib/python3.11/site-packages (from sympy==1.13.1->torch) (1.3.0)\n",
      "Requirement already satisfied: MarkupSafe>=2.0 in /opt/anaconda3/lib/python3.11/site-packages (from jinja2->torch) (2.1.3)\n"
     ]
    }
   ],
   "source": [
    "!pip install torch"
   ]
  },
  {
   "cell_type": "code",
   "execution_count": 18,
   "metadata": {},
   "outputs": [],
   "source": [
    "import torch\n",
    "import torch.nn as nn\n",
    "import torch.optim as optim\n",
    "import torch.nn.functional as F "
   ]
  },
  {
   "cell_type": "code",
   "execution_count": 19,
   "metadata": {
    "id": "WUptZqmSGc3T"
   },
   "outputs": [
    {
     "name": "stdout",
     "output_type": "stream",
     "text": [
      "Number of features: 10\n"
     ]
    }
   ],
   "source": [
    "# Find the number of columns in the X training data\n",
    "num_features = X_train_scaled.shape[1]\n",
    "print(f\"Number of features: {num_features}\")\n",
    "\n",
    "# Create the input layer and shared layers\n",
    "\n",
    "'''\n",
    "I took it on myself to use PyTorch since I know it is the most widely used framework by far for deep learning and neural nets\n",
    "\n",
    "I have no idea if graders are familiar with it, but it should be relatively easy to understand if you understand deep learning or TensorFlow\n",
    "\n",
    "A class is created that inherits from torch.nn.Module, where the constructor defines layers\n",
    "Forward method defines activation functions/how data is passed between layers\n",
    "\n",
    "Of course feedback will be given, would love substantive feedback on the actual qualities of the NN as that is where I am least confident \n",
    "for example when to use activation functions etc, my understanding feels rudimentary\n",
    "'''\n",
    "\n",
    "class AttritionModel(nn.Module):\n",
    "    def __init__(self, num_features, num_dept_classes, num_attr_classes): # use constructor in PyTorch to define layers\n",
    "        super(AttritionModel, self).__init__()\n",
    "        self.input_layer = nn.Linear(num_features, 64)   # input layer\n",
    "        self.shared_layer1 = nn.Linear(64, 128)          # first shared layer\n",
    "        self.shared_layer2 = nn.Linear(128, 256)         # second shared layer\n",
    "        self.shared_layer3 = nn.Linear(256, 128)         # third shared layer\n",
    "\n",
    "        # Department branch\n",
    "        self.dept_hidden = nn.Linear(128, 64)\n",
    "        self.dept_output = nn.Linear(64, num_dept_classes)\n",
    "\n",
    "        # Attrition branch\n",
    "        self.attr_hidden = nn.Linear(128, 64)\n",
    "        self.attr_output = nn.Linear(64, num_attr_classes)\n",
    "\n",
    "    def forward(self, x): # PyTorch method for activation functions, separate method within class and activation functions correspond to layers\n",
    "        # Input layer\n",
    "        x = torch.relu(self.input_layer(x))\n",
    "        # Shared layers\n",
    "        x = torch.relu(self.shared_layer1(x))\n",
    "        x = torch.relu(self.shared_layer2(x))\n",
    "        x = torch.relu(self.shared_layer3(x))\n",
    "\n",
    "        # Department branch\n",
    "        dept = torch.relu(self.dept_hidden(x))\n",
    "        dept_output = self.dept_output(dept)\n",
    "\n",
    "        # Attrition branch\n",
    "        attr = torch.relu(self.attr_hidden(x))\n",
    "        attr_output = self.attr_output(attr)\n",
    "\n",
    "        return dept_output, attr_output\n",
    "\n",
    "# number of classes for Department and Attrition\n",
    "num_dept_classes = Y_train_department.shape[1]\n",
    "num_attr_classes = Y_train_attrition.shape[1]\n",
    "\n",
    "\n",
    "\n",
    "\n"
   ]
  },
  {
   "cell_type": "code",
   "execution_count": 20,
   "metadata": {
    "id": "JukjTm2yTEqd"
   },
   "outputs": [],
   "source": [
    "# Create a branch for Department\n",
    "# with a hidden layer and an output layer\n",
    "\n",
    "# Create the hidden layer\n",
    "\n",
    "# Create the output layer\n",
    "\n",
    "# see # department branch and # attrition branch in the class above for branch layers"
   ]
  },
  {
   "cell_type": "code",
   "execution_count": 21,
   "metadata": {
    "id": "9OqhUiOJUBkR"
   },
   "outputs": [],
   "source": [
    "# Create a branch for Attrition\n",
    "# with a hidden layer and an output layer\n",
    "\n",
    "# Create the hidden layer\n",
    "\n",
    "\n",
    "# Create the output layer\n",
    "\n"
   ]
  },
  {
   "cell_type": "code",
   "execution_count": 22,
   "metadata": {
    "colab": {
     "base_uri": "https://localhost:8080/"
    },
    "id": "twmuejdxGc3T",
    "outputId": "25096308-b68b-42e4-e4ea-ae82e97c435a"
   },
   "outputs": [
    {
     "name": "stdout",
     "output_type": "stream",
     "text": [
      "AttritionModel(\n",
      "  (input_layer): Linear(in_features=10, out_features=64, bias=True)\n",
      "  (shared_layer1): Linear(in_features=64, out_features=128, bias=True)\n",
      "  (shared_layer2): Linear(in_features=128, out_features=256, bias=True)\n",
      "  (shared_layer3): Linear(in_features=256, out_features=128, bias=True)\n",
      "  (dept_hidden): Linear(in_features=128, out_features=64, bias=True)\n",
      "  (dept_output): Linear(in_features=64, out_features=3, bias=True)\n",
      "  (attr_hidden): Linear(in_features=128, out_features=64, bias=True)\n",
      "  (attr_output): Linear(in_features=64, out_features=2, bias=True)\n",
      ")\n"
     ]
    }
   ],
   "source": [
    "# Create the model\n",
    "model = AttritionModel(num_features, num_dept_classes, num_attr_classes)\n",
    "\n",
    "# Compile the model\n",
    "# optimizer\n",
    "optimizer = optim.Adam(model.parameters(), lr=0.001)\n",
    "\n",
    "# loss functions\n",
    "criterion_dept = nn.CrossEntropyLoss()\n",
    "criterion_attr = nn.CrossEntropyLoss()\n",
    "\n",
    "# Summarize the model\n",
    "print(model)\n",
    "\n",
    "\n"
   ]
  },
  {
   "cell_type": "code",
   "execution_count": 23,
   "metadata": {
    "colab": {
     "base_uri": "https://localhost:8080/"
    },
    "id": "c8oGy0dpGc3U",
    "outputId": "cc667d43-28cf-42d4-d719-c2bc02888d30"
   },
   "outputs": [
    {
     "name": "stdout",
     "output_type": "stream",
     "text": [
      "Epoch [10/400], Loss: 1.4872\n",
      "Epoch [20/400], Loss: 1.2376\n",
      "Epoch [30/400], Loss: 1.2121\n",
      "Epoch [40/400], Loss: 1.1941\n",
      "Epoch [50/400], Loss: 1.1808\n",
      "Epoch [60/400], Loss: 1.1628\n",
      "Epoch [70/400], Loss: 1.1397\n",
      "Epoch [80/400], Loss: 1.1101\n",
      "Epoch [90/400], Loss: 1.0751\n",
      "Epoch [100/400], Loss: 1.0320\n",
      "Epoch [110/400], Loss: 0.9760\n",
      "Epoch [120/400], Loss: 0.9012\n",
      "Epoch [130/400], Loss: 0.8249\n",
      "Epoch [140/400], Loss: 0.7461\n",
      "Epoch [150/400], Loss: 0.6790\n",
      "Epoch [160/400], Loss: 0.6076\n",
      "Epoch [170/400], Loss: 0.5528\n",
      "Epoch [180/400], Loss: 0.4818\n",
      "Epoch [190/400], Loss: 0.4484\n",
      "Epoch [200/400], Loss: 0.3850\n",
      "Epoch [210/400], Loss: 0.3659\n",
      "Epoch [220/400], Loss: 0.3014\n",
      "Epoch [230/400], Loss: 0.2655\n",
      "Epoch [240/400], Loss: 0.2323\n",
      "Epoch [250/400], Loss: 0.2164\n",
      "Epoch [260/400], Loss: 0.1848\n",
      "Epoch [270/400], Loss: 0.1586\n",
      "Epoch [280/400], Loss: 0.1350\n",
      "Epoch [290/400], Loss: 0.1231\n",
      "Epoch [300/400], Loss: 0.1155\n",
      "Epoch [310/400], Loss: 0.0826\n",
      "Epoch [320/400], Loss: 0.0714\n",
      "Epoch [330/400], Loss: 0.0572\n",
      "Epoch [340/400], Loss: 0.0483\n",
      "Epoch [350/400], Loss: 0.0420\n",
      "Epoch [360/400], Loss: 0.0366\n",
      "Epoch [370/400], Loss: 0.0314\n",
      "Epoch [380/400], Loss: 0.0290\n",
      "Epoch [390/400], Loss: 0.0251\n",
      "Epoch [400/400], Loss: 0.0201\n"
     ]
    }
   ],
   "source": [
    "# Train the model\n",
    "# convert Y_train to class indices if they are one-hot encoded\n",
    "import numpy as np\n",
    "\n",
    "Y_train_department_indices = np.argmax(Y_train_department, axis=1)\n",
    "Y_train_attrition_indices = np.argmax(Y_train_attrition, axis=1)\n",
    "\n",
    "# convert training data to tensors, must take PyTorch tensors for PyTorch\n",
    "inputs = torch.tensor(X_train_scaled, dtype=torch.float32)\n",
    "dept_labels = torch.tensor(Y_train_department_indices, dtype=torch.long)\n",
    "attr_labels = torch.tensor(Y_train_attrition_indices, dtype=torch.long)\n",
    "\n",
    "# training loop\n",
    "num_epochs = 400\n",
    "\n",
    "for epoch in range(num_epochs):\n",
    "    model.train()\n",
    "    optimizer.zero_grad()\n",
    "\n",
    "    # forward pass\n",
    "    dept_outputs, attr_outputs = model(inputs)\n",
    "\n",
    "    # compute losses\n",
    "    loss_dept = criterion_dept(dept_outputs, dept_labels)\n",
    "    loss_attr = criterion_attr(attr_outputs, attr_labels)\n",
    "    loss = loss_dept + loss_attr\n",
    "\n",
    "    # backward pass and optimization\n",
    "    loss.backward()\n",
    "    optimizer.step()\n",
    "\n",
    "    # print loss every 10 epochs\n",
    "    if (epoch + 1) % 10 == 0:\n",
    "        print(f\"Epoch [{epoch + 1}/{num_epochs}], Loss: {loss.item():.4f}\")\n"
   ]
  },
  {
   "cell_type": "code",
   "execution_count": 24,
   "metadata": {
    "colab": {
     "base_uri": "https://localhost:8080/"
    },
    "id": "VsMoaQlgGc3U",
    "outputId": "1bd4e601-e964-4abc-ad83-aeecf6b696be"
   },
   "outputs": [
    {
     "name": "stdout",
     "output_type": "stream",
     "text": [
      "Test Accuracy for Department: 48.91%\n",
      "Test Accuracy for Attrition: 74.73%\n"
     ]
    }
   ],
   "source": [
    "# Evaluate the model with the testing data\n",
    "\n",
    "'''\n",
    "This part was definitely more work than TensorFlow \n",
    "\n",
    "PyTorch does not have a built in evaluate method with the same level of functionality, however offers more customizability in this space \n",
    "'''\n",
    "\n",
    "\n",
    "# Convert Y_test to class indices if they are one-hot encoded\n",
    "Y_test_department_indices = np.argmax(Y_test_department, axis=1)\n",
    "Y_test_attrition_indices = np.argmax(Y_test_attrition, axis=1)\n",
    "\n",
    "# Convert testing data to tensors\n",
    "inputs = torch.tensor(X_test_scaled, dtype=torch.float32)\n",
    "dept_labels = torch.tensor(Y_test_department_indices, dtype=torch.long)\n",
    "attr_labels = torch.tensor(Y_test_attrition_indices, dtype=torch.long)\n",
    "\n",
    "# Evaluation\n",
    "model.eval()\n",
    "with torch.no_grad():\n",
    "    dept_outputs, attr_outputs = model(inputs)\n",
    "\n",
    "    # Compute accuracies\n",
    "    _, dept_predicted = torch.max(dept_outputs, 1)\n",
    "    _, attr_predicted = torch.max(attr_outputs, 1)\n",
    "\n",
    "    total = dept_labels.size(0)\n",
    "\n",
    "    correct_dept = (dept_predicted == dept_labels).sum().item()\n",
    "    correct_attr = (attr_predicted == attr_labels).sum().item()\n",
    "\n",
    "    accuracy_dept = 100 * correct_dept / total\n",
    "    accuracy_attr = 100 * correct_attr / total\n",
    "\n",
    "    print(f\"Test Accuracy for Department: {accuracy_dept:.2f}%\")\n",
    "    print(f\"Test Accuracy for Attrition: {accuracy_attr:.2f}%\")"
   ]
  },
  {
   "cell_type": "markdown",
   "metadata": {
    "id": "eGSyfsZfWOQM"
   },
   "source": [
    "# Summary\n",
    "\n",
    "In the provided space below, briefly answer the following questions.\n",
    "\n",
    "1. Is accuracy the best metric to use on this data? Why or why not?\n",
    "\n",
    "2. What activation functions did you choose for your output layers, and why?\n",
    "\n",
    "3. Can you name a few ways that this model might be improved?"
   ]
  },
  {
   "cell_type": "markdown",
   "metadata": {
    "id": "pi9SLpFnWvbF"
   },
   "source": [
    "YOUR ANSWERS HERE\n",
    "\n",
    "1. A classification report would be better than accuracy, considering this is a classification problem. It would also be good to get a confusion matrix too to see the breakdown of false/true positives/negatitives.\n",
    "2. Softmax - which is implemented via Cross Entropy Loss. CEL implements softmax and negative log likelihood, softmax accounts for relationships between probabilities of outcomes and is non linear, NLL penalizes low probabilities for better results.\n",
    "3. Having more data is always a plus for Neural Nets/deep learning. It also would be a good idea to include more features for the X data, considering we have way more than just 10. It is likely that there are more viable features than just the 10 I chose."
   ]
  },
  {
   "cell_type": "markdown",
   "metadata": {},
   "source": []
  }
 ],
 "metadata": {
  "colab": {
   "provenance": []
  },
  "kernelspec": {
   "display_name": "Python 3 (ipykernel)",
   "language": "python",
   "name": "python3"
  },
  "language_info": {
   "codemirror_mode": {
    "name": "ipython",
    "version": 3
   },
   "file_extension": ".py",
   "mimetype": "text/x-python",
   "name": "python",
   "nbconvert_exporter": "python",
   "pygments_lexer": "ipython3",
   "version": "3.11.7"
  },
  "vscode": {
   "interpreter": {
    "hash": "31f2aee4e71d21fbe5cf8b01ff0e069b9275f58929596ceb00d14d90e3e16cd6"
   }
  }
 },
 "nbformat": 4,
 "nbformat_minor": 0
}
